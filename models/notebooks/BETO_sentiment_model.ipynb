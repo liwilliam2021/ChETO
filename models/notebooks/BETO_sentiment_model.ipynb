{
  "nbformat": 4,
  "nbformat_minor": 0,
  "metadata": {
    "colab": {
      "provenance": [],
      "gpuType": "L4",
      "machine_shape": "hm"
    },
    "kernelspec": {
      "name": "python3",
      "display_name": "Python 3"
    },
    "language_info": {
      "name": "python"
    },
    "accelerator": "GPU"
  },
  "cells": [
    {
      "cell_type": "code",
      "source": [
        "!pip install adapters"
      ],
      "metadata": {
        "colab": {
          "base_uri": "https://localhost:8080/"
        },
        "id": "-FyWXGDCxwZ-",
        "outputId": "d386e765-0897-4c1e-b1fb-95d17ebffd71"
      },
      "execution_count": 1,
      "outputs": [
        {
          "output_type": "stream",
          "name": "stdout",
          "text": [
            "Collecting adapters\n",
            "  Downloading adapters-1.1.0-py3-none-any.whl.metadata (16 kB)\n",
            "Collecting transformers~=4.47.1 (from adapters)\n",
            "  Downloading transformers-4.47.1-py3-none-any.whl.metadata (44 kB)\n",
            "\u001b[2K     \u001b[90m━━━━━━━━━━━━━━━━━━━━━━━━━━━━━━━━━━━━━━━━\u001b[0m \u001b[32m44.1/44.1 kB\u001b[0m \u001b[31m2.5 MB/s\u001b[0m eta \u001b[36m0:00:00\u001b[0m\n",
            "\u001b[?25hRequirement already satisfied: packaging in /usr/local/lib/python3.11/dist-packages (from adapters) (24.2)\n",
            "Requirement already satisfied: filelock in /usr/local/lib/python3.11/dist-packages (from transformers~=4.47.1->adapters) (3.17.0)\n",
            "Requirement already satisfied: huggingface-hub<1.0,>=0.24.0 in /usr/local/lib/python3.11/dist-packages (from transformers~=4.47.1->adapters) (0.28.1)\n",
            "Requirement already satisfied: numpy>=1.17 in /usr/local/lib/python3.11/dist-packages (from transformers~=4.47.1->adapters) (2.0.2)\n",
            "Requirement already satisfied: pyyaml>=5.1 in /usr/local/lib/python3.11/dist-packages (from transformers~=4.47.1->adapters) (6.0.2)\n",
            "Requirement already satisfied: regex!=2019.12.17 in /usr/local/lib/python3.11/dist-packages (from transformers~=4.47.1->adapters) (2024.11.6)\n",
            "Requirement already satisfied: requests in /usr/local/lib/python3.11/dist-packages (from transformers~=4.47.1->adapters) (2.32.3)\n",
            "Requirement already satisfied: tokenizers<0.22,>=0.21 in /usr/local/lib/python3.11/dist-packages (from transformers~=4.47.1->adapters) (0.21.1)\n",
            "Requirement already satisfied: safetensors>=0.4.1 in /usr/local/lib/python3.11/dist-packages (from transformers~=4.47.1->adapters) (0.5.3)\n",
            "Requirement already satisfied: tqdm>=4.27 in /usr/local/lib/python3.11/dist-packages (from transformers~=4.47.1->adapters) (4.67.1)\n",
            "Requirement already satisfied: fsspec>=2023.5.0 in /usr/local/lib/python3.11/dist-packages (from huggingface-hub<1.0,>=0.24.0->transformers~=4.47.1->adapters) (2024.10.0)\n",
            "Requirement already satisfied: typing-extensions>=3.7.4.3 in /usr/local/lib/python3.11/dist-packages (from huggingface-hub<1.0,>=0.24.0->transformers~=4.47.1->adapters) (4.12.2)\n",
            "Requirement already satisfied: charset-normalizer<4,>=2 in /usr/local/lib/python3.11/dist-packages (from requests->transformers~=4.47.1->adapters) (3.4.1)\n",
            "Requirement already satisfied: idna<4,>=2.5 in /usr/local/lib/python3.11/dist-packages (from requests->transformers~=4.47.1->adapters) (3.10)\n",
            "Requirement already satisfied: urllib3<3,>=1.21.1 in /usr/local/lib/python3.11/dist-packages (from requests->transformers~=4.47.1->adapters) (2.3.0)\n",
            "Requirement already satisfied: certifi>=2017.4.17 in /usr/local/lib/python3.11/dist-packages (from requests->transformers~=4.47.1->adapters) (2025.1.31)\n",
            "Downloading adapters-1.1.0-py3-none-any.whl (293 kB)\n",
            "\u001b[2K   \u001b[90m━━━━━━━━━━━━━━━━━━━━━━━━━━━━━━━━━━━━━━━━\u001b[0m \u001b[32m293.4/293.4 kB\u001b[0m \u001b[31m16.2 MB/s\u001b[0m eta \u001b[36m0:00:00\u001b[0m\n",
            "\u001b[?25hDownloading transformers-4.47.1-py3-none-any.whl (10.1 MB)\n",
            "\u001b[2K   \u001b[90m━━━━━━━━━━━━━━━━━━━━━━━━━━━━━━━━━━━━━━━━\u001b[0m \u001b[32m10.1/10.1 MB\u001b[0m \u001b[31m104.2 MB/s\u001b[0m eta \u001b[36m0:00:00\u001b[0m\n",
            "\u001b[?25hInstalling collected packages: transformers, adapters\n",
            "  Attempting uninstall: transformers\n",
            "    Found existing installation: transformers 4.48.3\n",
            "    Uninstalling transformers-4.48.3:\n",
            "      Successfully uninstalled transformers-4.48.3\n",
            "Successfully installed adapters-1.1.0 transformers-4.47.1\n"
          ]
        }
      ]
    },
    {
      "cell_type": "code",
      "source": [
        "import torch\n",
        "import torch.nn as nn\n",
        "from transformers import BertModel, BertTokenizer, BertConfig, AdamW\n",
        "from peft import get_peft_model, LoraConfig, TaskType\n",
        "\n",
        "class SentimentBERT(nn.Module):\n",
        "    def __init__(self, model_name=\"dccuchile/bert-base-spanish-wwm-uncased\"):\n",
        "        super().__init__()\n",
        "        base_model = BertModel.from_pretrained(model_name)\n",
        "\n",
        "        # Freeze all base model params\n",
        "        for param in base_model.parameters():\n",
        "            param.requires_grad = False\n",
        "\n",
        "        lora_config = LoraConfig(\n",
        "            task_type=TaskType.FEATURE_EXTRACTION,\n",
        "            r=8,\n",
        "            lora_alpha=16,\n",
        "            lora_dropout=0.1,\n",
        "            target_modules=[\"query\", \"value\"]\n",
        "        )\n",
        "        self.bert = get_peft_model(base_model, lora_config)\n",
        "\n",
        "        self.regressor = nn.Sequential(\n",
        "            nn.Linear(self.bert.config.hidden_size, 256),\n",
        "            nn.ReLU(),\n",
        "            nn.Linear(256, 1)  # Predict sentiment score from 1 to 5\n",
        "        )\n",
        "\n",
        "    def forward(self, input_ids, attention_mask):\n",
        "        outputs = self.bert(input_ids=input_ids, attention_mask=attention_mask)\n",
        "        pooled_output = outputs.pooler_output  # CLS token representation\n",
        "        return self.regressor(pooled_output).squeeze(-1)"
      ],
      "metadata": {
        "id": "Unm2NmjYuM3s"
      },
      "execution_count": 16,
      "outputs": []
    },
    {
      "cell_type": "code",
      "source": [
        "import json\n",
        "from torch.utils.data import Dataset\n",
        "\n",
        "class JSONSentimentDataset(Dataset):\n",
        "    def __init__(self, data, tokenizer, max_len=128):\n",
        "        self.data = data\n",
        "        self.tokenizer = tokenizer\n",
        "        self.max_len = max_len\n",
        "\n",
        "    def __len__(self):\n",
        "        return len(self.data)\n",
        "\n",
        "    def __getitem__(self, idx):\n",
        "        sample = self.data[idx]\n",
        "        title = sample.get(\"title\", \"\")\n",
        "        review = sample.get(\"review\", \"\")\n",
        "        rating = sample.get(\"rating\", 0.0)\n",
        "\n",
        "        combined_text = f\"{title}. {review}\"  # or customize formatting here\n",
        "\n",
        "        encoding = self.tokenizer(\n",
        "            combined_text,\n",
        "            max_length=self.max_len,\n",
        "            padding='max_length',\n",
        "            truncation=True,\n",
        "            return_tensors='pt'\n",
        "        )\n",
        "\n",
        "        return {\n",
        "            'input_ids': encoding['input_ids'].squeeze(),\n",
        "            'attention_mask': encoding['attention_mask'].squeeze(),\n",
        "            'score': torch.tensor(rating / 5.0, dtype=torch.float)\n",
        "        }"
      ],
      "metadata": {
        "id": "CnTm9BfVuJPc"
      },
      "execution_count": 7,
      "outputs": []
    },
    {
      "cell_type": "code",
      "source": [
        "def balanced_sample_json(json_path, samples_per_class):\n",
        "    data = json.load(open(json_path, \"r\", encoding=\"utf-8\"))\n",
        "\n",
        "    grouped_reviews = defaultdict(list)\n",
        "    for review in data:\n",
        "        rating = review.get(\"rating\")\n",
        "        if rating is not None:\n",
        "            grouped_reviews[rating].append(review)\n",
        "\n",
        "    sampled_reviews = []\n",
        "    for rating in grouped_reviews:\n",
        "        sampled = random.sample(\n",
        "            grouped_reviews[rating],\n",
        "            min(samples_per_class, len(grouped_reviews[rating]))\n",
        "        )\n",
        "        sampled_reviews.extend(sampled)\n",
        "\n",
        "    random.shuffle(sampled_reviews)\n",
        "    return sampled_reviews"
      ],
      "metadata": {
        "id": "Xo87rj-vXNg8"
      },
      "execution_count": 8,
      "outputs": []
    },
    {
      "cell_type": "code",
      "source": [
        "def prepare_dataloaders(json_path, tokenizer, samples_per_class, batch_size=8, max_len=128):\n",
        "    sampled_data = balanced_sample_json(json_path, samples_per_class)\n",
        "\n",
        "    dataset = JSONSentimentDataset(sampled_data, tokenizer, max_len)\n",
        "\n",
        "    total_size = len(dataset)\n",
        "    train_size = int(0.8 * total_size)\n",
        "    val_size = int(0.1 * total_size)\n",
        "    test_size = total_size - train_size - val_size\n",
        "\n",
        "    train_dataset, val_dataset, test_dataset = random_split(\n",
        "        dataset,\n",
        "        [train_size, val_size, test_size],\n",
        "        generator=torch.Generator().manual_seed(42)\n",
        "    )\n",
        "\n",
        "    train_loader = DataLoader(train_dataset, batch_size=batch_size, shuffle=True)\n",
        "    val_loader = DataLoader(val_dataset, batch_size=batch_size)\n",
        "    test_loader = DataLoader(test_dataset, batch_size=batch_size)\n",
        "    print(f\"Train loader length (batches): {len(train_loader)}\")\n",
        "    print(f\"Validation loader length (batches): {len(val_loader)}\")\n",
        "    print(f\"Validation loader length (batches): {len(test_loader)}\")\n",
        "\n",
        "    return train_loader, val_loader, test_loader"
      ],
      "metadata": {
        "id": "XCY4BhyXDlTe"
      },
      "execution_count": 9,
      "outputs": []
    },
    {
      "cell_type": "code",
      "source": [
        "def train_epoch(model, dataloader, optimizer, criterion, device):\n",
        "    model.train()\n",
        "    total_loss = 0\n",
        "\n",
        "    for batch in dataloader:\n",
        "        input_ids = batch['input_ids'].to(device)\n",
        "        attention_mask = batch['attention_mask'].to(device)\n",
        "        labels = batch['score'].to(device)\n",
        "\n",
        "        optimizer.zero_grad()\n",
        "        outputs = model(input_ids=input_ids, attention_mask=attention_mask)\n",
        "        loss = criterion(outputs, labels)\n",
        "        loss.backward()\n",
        "        optimizer.step()\n",
        "\n",
        "        total_loss += loss.item()\n",
        "\n",
        "    return total_loss / len(dataloader)\n",
        "\n",
        "\n",
        "def eval_epoch(model, dataloader, criterion, device):\n",
        "    model.eval()\n",
        "    total_loss = 0\n",
        "\n",
        "    with torch.no_grad():\n",
        "        for batch in dataloader:\n",
        "            input_ids = batch['input_ids'].to(device)\n",
        "            attention_mask = batch['attention_mask'].to(device)\n",
        "            labels = batch['score'].to(device)\n",
        "\n",
        "            outputs = model(input_ids=input_ids, attention_mask=attention_mask)\n",
        "            loss = criterion(outputs, labels)\n",
        "            total_loss += loss.item()\n",
        "\n",
        "    return total_loss / len(dataloader)"
      ],
      "metadata": {
        "id": "DFgxn7LAY3-z"
      },
      "execution_count": 10,
      "outputs": []
    },
    {
      "cell_type": "code",
      "source": [
        "def run_training(json_path, samples_per_class=100, batch_size=8, num_epochs=5):\n",
        "    tokenizer = BertTokenizer.from_pretrained(\"dccuchile/bert-base-spanish-wwm-uncased\")\n",
        "    train_loader, val_loader, test_loader = prepare_dataloaders(\n",
        "        json_path, tokenizer, samples_per_class, batch_size=batch_size\n",
        "    )\n",
        "\n",
        "    device = torch.device(\"cuda\" if torch.cuda.is_available() else \"cpu\")\n",
        "    model = SentimentBERT().to(device)\n",
        "\n",
        "    optimizer = AdamW(model.parameters(), lr=2e-5)\n",
        "    criterion = nn.MSELoss()\n",
        "\n",
        "    for epoch in range(num_epochs):\n",
        "        train_loss = train_epoch(model, train_loader, optimizer, criterion, device)\n",
        "        val_loss = eval_epoch(model, val_loader, criterion, device)\n",
        "        print(f\"Epoch {epoch+1}/{num_epochs} | Train Loss: {train_loss:.4f} | Val Loss: {val_loss:.4f}\")\n",
        "\n",
        "    test_loss = eval_epoch(model, test_loader, criterion, device)\n",
        "    print(f\"\\nFinal Test Loss: {test_loss:.4f}\")\n",
        "\n",
        "    return model"
      ],
      "metadata": {
        "id": "2wdwwYUnurq6"
      },
      "execution_count": 14,
      "outputs": []
    },
    {
      "cell_type": "code",
      "source": [
        "new_model = run_training(\"labeled_data.json\", samples_per_class=2000, batch_size=8, num_epochs=3)"
      ],
      "metadata": {
        "colab": {
          "base_uri": "https://localhost:8080/"
        },
        "id": "JxBQUBQXZb_M",
        "outputId": "e91b9f41-2bb3-4732-b594-91c7f93a8b82"
      },
      "execution_count": null,
      "outputs": [
        {
          "output_type": "stream",
          "name": "stderr",
          "text": [
            "Some weights of BertModel were not initialized from the model checkpoint at dccuchile/bert-base-spanish-wwm-uncased and are newly initialized: ['bert.pooler.dense.bias', 'bert.pooler.dense.weight']\n",
            "You should probably TRAIN this model on a down-stream task to be able to use it for predictions and inference.\n"
          ]
        },
        {
          "output_type": "stream",
          "name": "stdout",
          "text": [
            "Epoch 1/3 | Train Loss: 0.0728 | Val Loss: 0.0485\n"
          ]
        }
      ]
    },
    {
      "cell_type": "code",
      "source": [
        "import json\n",
        "\n",
        "def score_and_save_predictions(model, dataloader, device, output_json=\"predictions.json\"):\n",
        "    model.eval()\n",
        "    results = []\n",
        "\n",
        "    correct = 0\n",
        "    total = 0\n",
        "\n",
        "    with torch.no_grad():\n",
        "        for batch in dataloader:\n",
        "            input_ids = batch['input_ids'].to(device)\n",
        "            attention_mask = batch['attention_mask'].to(device)\n",
        "            labels = batch['score'].to(device)  # normalized [0, 1]\n",
        "\n",
        "            outputs = model(input_ids=input_ids, attention_mask=attention_mask)\n",
        "\n",
        "            preds = outputs * 5.0  # denormalize to [0, 5]\n",
        "            targets = labels * 5.0\n",
        "\n",
        "            preds_rounded = torch.clamp(preds.round(), 0, 5)\n",
        "            targets_rounded = torch.clamp(targets.round(), 0, 5)\n",
        "\n",
        "            correct += (preds_rounded == targets_rounded).sum().item()\n",
        "            total += targets.size(0)\n",
        "\n",
        "            # Save individual results (for exporting to JSON)\n",
        "            for i in range(len(preds)):\n",
        "                results.append({\n",
        "                    \"predicted_score\": preds[i].item(),\n",
        "                    \"predicted_score_rounded\": preds_rounded[i].item(),\n",
        "                    \"true_score\": targets[i].item(),\n",
        "                    \"true_score_rounded\": targets_rounded[i].item()\n",
        "                })\n",
        "\n",
        "    accuracy = correct / total\n",
        "    print(f\"Test Accuracy (rounded, range 0-5): {accuracy * 100:.2f}%\")\n",
        "\n",
        "    with open(output_json, \"w\", encoding=\"utf-8\") as f:\n",
        "        json.dump(results, f, indent=4, ensure_ascii=False)\n",
        "\n",
        "    print(f\"Predictions saved to {output_json}\")\n",
        "    return accuracy"
      ],
      "metadata": {
        "id": "OAiBnn-3CiY8"
      },
      "execution_count": null,
      "outputs": []
    },
    {
      "cell_type": "code",
      "source": [
        "score_and_save_predictions(trained_model, test_loader)"
      ],
      "metadata": {
        "id": "klAFWbHBEXAM",
        "colab": {
          "base_uri": "https://localhost:8080/"
        },
        "outputId": "04fed286-8823-4288-8345-6fdfce24efb1"
      },
      "execution_count": null,
      "outputs": [
        {
          "output_type": "stream",
          "name": "stderr",
          "text": [
            "Testing Accuracy: 100%|██████████| 686/686 [00:40<00:00, 16.91it/s, batch_acc=0.562]\n"
          ]
        },
        {
          "output_type": "stream",
          "name": "stdout",
          "text": [
            "Test Accuracy: 60.36%\n",
            "Saved 10976 predictions to contrastive_model_pairwise_predictions.json\n"
          ]
        }
      ]
    }
  ]
}